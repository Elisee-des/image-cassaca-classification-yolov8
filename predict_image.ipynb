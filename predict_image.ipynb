{
 "cells": [
  {
   "cell_type": "code",
   "execution_count": 16,
   "metadata": {},
   "outputs": [],
   "source": [
    "from ultralytics import YOLO\n",
    "import numpy as np\n",
    "import torch\n",
    "import os\n",
    "from pathlib import Path"
   ]
  },
  {
   "cell_type": "code",
   "execution_count": 50,
   "metadata": {},
   "outputs": [
    {
     "name": "stderr",
     "output_type": "stream",
     "text": [
      "\n",
      "image 1/1 /home/safiatou/yolov8_env/image-cassaca-classification-yolov8/img/CMD-10.jpg: 224x224 Brown Streak Disease (CBSD) 0.92, Mosaic Disease (CMD) 0.08, Bacterial Blight (CBB) 0.00, Healthy 0.00, Green Mottle (CGM) 0.00, 102.0ms\n",
      "Speed: 0.0ms preprocess, 102.0ms inference, 0.0ms postprocess per image at shape (1, 3, 224, 224)\n"
     ]
    },
    {
     "name": "stdout",
     "output_type": "stream",
     "text": [
      "\n",
      "L'image appartient à la classe : Brown Streak Disease (CBSD)\n"
     ]
    }
   ],
   "source": [
    "# Charger le modèle YOLOv8\n",
    "model = YOLO('./runs/classify/train6/weights/last.pt')\n",
    "\n",
    "# Faire une prédiction sur une nouvelle image\n",
    "results = model('./img/CMD-10.jpg')\n",
    "\n",
    "# Obtenir les noms des classes\n",
    "names_dict = results[0].names\n",
    "\n",
    "probs = results[0].probs.numpy()\n",
    "\n",
    "# Trouver l'indice de la classe prédite\n",
    "max_index = probs.argmax()\n",
    "\n",
    "# Trouver le nom de la classe prédite\n",
    "predicted_class = names_dict[max_index]\n",
    "\n",
    "print(f\"\\nL'image appartient à la classe : {predicted_class}\")\n"
   ]
  }
 ],
 "metadata": {
  "kernelspec": {
   "display_name": "yolov8_env",
   "language": "python",
   "name": "python3"
  },
  "language_info": {
   "codemirror_mode": {
    "name": "ipython",
    "version": 3
   },
   "file_extension": ".py",
   "mimetype": "text/x-python",
   "name": "python",
   "nbconvert_exporter": "python",
   "pygments_lexer": "ipython3",
   "version": "3.10.12"
  }
 },
 "nbformat": 4,
 "nbformat_minor": 2
}
