{
 "cells": [
  {
   "cell_type": "code",
   "execution_count": 1,
   "metadata": {},
   "outputs": [],
   "source": [
    "from ultralytics import YOLO\n",
    "import numpy as np\n",
    "import torch\n",
    "import os\n",
    "from pathlib import Path"
   ]
  },
  {
   "cell_type": "code",
   "execution_count": 2,
   "metadata": {},
   "outputs": [
    {
     "name": "stderr",
     "output_type": "stream",
     "text": [
      "\n",
      "image 1/1 /home/safiatou/yolov8_env/image-cassaca-classification-yolov8/img/CBSD-5.jpg: 224x224 Brown Streak Disease (CBSD) 0.44, Bacterial Blight (CBB) 0.25, Mosaic Disease (CMD) 0.20, Healthy 0.07, Green Mottle (CGM) 0.03, 2578.0ms\n",
      "Speed: 0.1ms preprocess, 2578.0ms inference, 0.1ms postprocess per image at shape (1, 3, 224, 224)\n"
     ]
    },
    {
     "name": "stdout",
     "output_type": "stream",
     "text": [
      "\n",
      "L'image appartient à la classe : Brown Streak Disease (CBSD)\n"
     ]
    }
   ],
   "source": [
    "model = YOLO('./runs/classify/train6/weights/last.pt')\n",
    "\n",
    "results = model('./img/CBSD-5.jpg')\n",
    "\n",
    "names_dict = results[0].names\n",
    "\n",
    "probs = results[0].probs.numpy()\n",
    "\n",
    "max_index = probs.argmax()\n",
    "\n",
    "predicted_class = names_dict[max_index]\n",
    "\n",
    "print(f\"\\nL'image appartient à la classe : {predicted_class}\")\n"
   ]
  }
 ],
 "metadata": {
  "kernelspec": {
   "display_name": "yolov8_env",
   "language": "python",
   "name": "python3"
  },
  "language_info": {
   "codemirror_mode": {
    "name": "ipython",
    "version": 3
   },
   "file_extension": ".py",
   "mimetype": "text/x-python",
   "name": "python",
   "nbconvert_exporter": "python",
   "pygments_lexer": "ipython3",
   "version": "3.10.12"
  }
 },
 "nbformat": 4,
 "nbformat_minor": 2
}
